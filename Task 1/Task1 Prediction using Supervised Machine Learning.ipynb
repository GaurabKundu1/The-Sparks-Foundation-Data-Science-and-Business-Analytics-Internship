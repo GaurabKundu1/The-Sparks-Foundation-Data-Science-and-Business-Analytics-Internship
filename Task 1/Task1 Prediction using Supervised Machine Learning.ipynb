{
 "cells": [
  {
   "cell_type": "markdown",
   "id": "411dea29",
   "metadata": {},
   "source": [
    "# The Sparks Foundation\n",
    "## Graduate Rotational Internship Program\n",
    "\n"
   ]
  },
  {
   "cell_type": "markdown",
   "id": "a0fc264a",
   "metadata": {},
   "source": [
    "# Task 1 Prediction using Supervised Machine Learning\n",
    "## Author : Gaurab Kundu\n",
    "### Data Science & Business Analytics Intern \n",
    "\n",
    "\n"
   ]
  },
  {
   "cell_type": "markdown",
   "id": "70a05b25",
   "metadata": {},
   "source": [
    "## Task Description\n",
    "\n",
    "In this regression task I tried to predict the percentage of marks that a student is expected to score based upon the number of hours they studied.\n",
    "\n",
    "This is a simple linear regression task as it involves just two variables.  "
   ]
  },
  {
   "cell_type": "code",
   "execution_count": null,
   "id": "21e2d8d8",
   "metadata": {},
   "outputs": [],
   "source": []
  }
 ],
 "metadata": {
  "kernelspec": {
   "display_name": "Python 3 (ipykernel)",
   "language": "python",
   "name": "python3"
  },
  "language_info": {
   "codemirror_mode": {
    "name": "ipython",
    "version": 3
   },
   "file_extension": ".py",
   "mimetype": "text/x-python",
   "name": "python",
   "nbconvert_exporter": "python",
   "pygments_lexer": "ipython3",
   "version": "3.9.12"
  }
 },
 "nbformat": 4,
 "nbformat_minor": 5
}
